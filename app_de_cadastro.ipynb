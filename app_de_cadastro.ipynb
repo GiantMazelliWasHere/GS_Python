{
 "cells": [
  {
   "cell_type": "code",
   "execution_count": 1,
   "metadata": {},
   "outputs": [],
   "source": [
    "from tkinter import *"
   ]
  },
  {
   "cell_type": "code",
   "execution_count": 2,
   "metadata": {},
   "outputs": [],
   "source": [
    "def caixa_de_cadastro():\n",
    "    pacientes = []\n",
    "    \n",
    "    nome = nome_tf.get()\n",
    "    idade = idade_tf.get()\n",
    "    cid = cid_tf.get()\n",
    "    \n",
    "    paciente = {'Nome':nome, 'Idade':idade, 'Cid':cid}\n",
    "    pacientes.append(paciente)\n",
    "    \n",
    "    disp_tf.insert(0, f'{paciente[\"Nome\"]}; {paciente[\"Idade\"]} anos; {paciente[\"Cid\"]}')\n",
    "    disp_msg.insert(0, f'Cadastro realizado com sucesso!')\n",
    "    \n",
    "ws = Tk()\n",
    "ws.title(\"Cadastro de Pacientes\")\n",
    "ws.geometry('400x300')\n",
    "ws.config(bg='#de923e')\n",
    "\n",
    "nome_tf = Entry(ws)\n",
    "idade_tf = Entry(ws)\n",
    "cid_tf = Entry(ws)\n",
    "\n",
    "nome_lbl = Label(ws, text='Nome', bg='#de923e', fg='white')\n",
    "idade_lbl = Label(ws, text='Idade', bg='#de923e', fg='white')\n",
    "cid_lbl = Label(ws, text='CID', bg='#de923e', fg='white')\n",
    "\n",
    "nome_lbl.pack()\n",
    "nome_tf.pack()\n",
    "idade_lbl.pack()\n",
    "idade_tf.pack()\n",
    "cid_lbl.pack()\n",
    "cid_tf.pack()\n",
    "\n",
    "btn = Button(ws, text='Cadastrar', relief=SOLID, command=caixa_de_cadastro)\n",
    "btn.pack(pady=10)\n",
    "\n",
    "disp_tf = Entry(ws, width=38, font=('Arial', '12'))\n",
    "disp_tf.pack(pady=5)\n",
    "\n",
    "disp_msg = Entry(ws, width=38, font=('Arial', '12'), bg='#de923e')\n",
    "disp_msg.pack(pady=5)\n",
    "\n",
    "ws.mainloop()"
   ]
  }
 ],
 "metadata": {
  "kernelspec": {
   "display_name": "Python 3",
   "language": "python",
   "name": "python3"
  },
  "language_info": {
   "codemirror_mode": {
    "name": "ipython",
    "version": 3
   },
   "file_extension": ".py",
   "mimetype": "text/x-python",
   "name": "python",
   "nbconvert_exporter": "python",
   "pygments_lexer": "ipython3",
   "version": "3.11.6"
  }
 },
 "nbformat": 4,
 "nbformat_minor": 2
}
