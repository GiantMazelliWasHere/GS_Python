{
 "cells": [
  {
   "cell_type": "code",
   "execution_count": 2,
   "metadata": {},
   "outputs": [],
   "source": [
    "from tkinter import *"
   ]
  },
  {
   "cell_type": "code",
   "execution_count": 1,
   "metadata": {},
   "outputs": [
    {
     "ename": "NameError",
     "evalue": "name 'Tk' is not defined",
     "output_type": "error",
     "traceback": [
      "\u001b[1;31m---------------------------------------------------------------------------\u001b[0m",
      "\u001b[1;31mNameError\u001b[0m                                 Traceback (most recent call last)",
      "\u001b[1;32mUntitled-1.ipynb Cell 2\u001b[0m line \u001b[0;36m8\n\u001b[0;32m     <a href='vscode-notebook-cell:Untitled-1.ipynb?jupyter-notebook#W4sdW50aXRsZWQ%3D?line=74'>75</a>\u001b[0m      \u001b[39mself\u001b[39m\u001b[39m.\u001b[39mpacientes\u001b[39m.\u001b[39mappend(paciente)\n\u001b[0;32m     <a href='vscode-notebook-cell:Untitled-1.ipynb?jupyter-notebook#W4sdW50aXRsZWQ%3D?line=75'>76</a>\u001b[0m      \u001b[39mreturn\u001b[39;00m \u001b[39mself\u001b[39m\u001b[39m.\u001b[39mpacientes\n\u001b[1;32m---> <a href='vscode-notebook-cell:Untitled-1.ipynb?jupyter-notebook#W4sdW50aXRsZWQ%3D?line=79'>80</a>\u001b[0m root \u001b[39m=\u001b[39m Tk()\n\u001b[0;32m     <a href='vscode-notebook-cell:Untitled-1.ipynb?jupyter-notebook#W4sdW50aXRsZWQ%3D?line=80'>81</a>\u001b[0m Application(root)\n\u001b[0;32m     <a href='vscode-notebook-cell:Untitled-1.ipynb?jupyter-notebook#W4sdW50aXRsZWQ%3D?line=81'>82</a>\u001b[0m root\u001b[39m.\u001b[39mmainloop()\n",
      "\u001b[1;31mNameError\u001b[0m: name 'Tk' is not defined"
     ]
    }
   ],
   "source": [
    "class Application:\n",
    "    def __init__(self, master=None):\n",
    "        self.fontePadrao = (\"Arial\", \"12\")\n",
    "        \n",
    "        self.primeiroContainer = Frame(master)\n",
    "        self.primeiroContainer[\"pady\"] = 10\n",
    "        self.primeiroContainer.pack()\n",
    "        \n",
    "        self.segundoContainer = Frame(master)\n",
    "        self.segundoContainer[\"padx\"] = 20\n",
    "        self.segundoContainer.pack()\n",
    "        \n",
    "        self.terceiroContainer = Frame(master)\n",
    "        self.terceiroContainer[\"padx\"] = 20\n",
    "        self.terceiroContainer.pack()\n",
    "        \n",
    "        self.quartoContainer = Frame(master)\n",
    "        self.quartoContainer[\"padx\"] = 20\n",
    "        self.quartoContainer.pack()\n",
    "        \n",
    "        self.quintoContainer = Frame(master)\n",
    "        self.quintoContainer[\"padx\"] = 20\n",
    "        self.quintoContainer.pack()\n",
    "        \n",
    "        self.sextoContainer = Frame(master)\n",
    "        self.sextoContainer[\"pady\"] = 20\n",
    "        self.sextoContainer.pack()\n",
    "        \n",
    "        self.titulo = Label(self.primeiroContainer, text=\"Cadastro de pacientes\")\n",
    "        self.titulo[\"font\"] = (\"arial\", \"10\", \"bold\")\n",
    "        self.titulo.pack()\n",
    "        \n",
    "        self.nomeLabel = Label(self.segundoContainer, text=\"Nome\", font=self.fontePadrao)\n",
    "        self.nomeLabel.pack(side=LEFT)\n",
    "        \n",
    "        self.nome = Entry(self.segundoContainer)\n",
    "        self.nome[\"width\"] = 30\n",
    "        self.nome[\"font\"] = self.fontePadrao\n",
    "        self.nome.pack(side=LEFT)\n",
    "        \n",
    "        self.idadeLabel = Label(self.terceiroContainer, text=\"Idade\", font=self.fontePadrao)\n",
    "        self.idadeLabel.pack(side=LEFT)\n",
    "        \n",
    "        self.idade = Entry(self.terceiroContainer)\n",
    "        self.idade[\"width\"] = 30\n",
    "        self.idade[\"font\"] = self.fontePadrao\n",
    "        self.idade.pack(side=LEFT)\n",
    "        \n",
    "        self.cidLabel = Label(self.quartoContainer, text=\"CID\", font=self.fontePadrao)\n",
    "        self.cidLabel.pack(side=LEFT)\n",
    "        \n",
    "        self.cid = Entry(self.quartoContainer)\n",
    "        self.cid[\"width\"] = 30\n",
    "        self.cid[\"font\"] = self.fontePadrao\n",
    "        self.cid.pack(side=LEFT)\n",
    "        \n",
    "        self.cadastrar = Button(self.quintoContainer)\n",
    "        self.cadastrar[\"text\"] = \"Cadastar\"\n",
    "        self.cadastrar[\"font\"] = (\"Calibri\", \"10\")\n",
    "        self.cadastrar[\"width\"] = 12\n",
    "        self.cadastrar[\"command\"] = self.cadastro_pacientes\n",
    "        self.cadastrar.pack()\n",
    "        \n",
    "        self.mensagem = Label(self.sextoContainer, text=\"\", font=self.fontePadrao)\n",
    "        self.mensagem.pack()\n",
    "        \n",
    "    def cadastro_pacientes(self):\n",
    "     self.pacientes = []\n",
    "     \n",
    "     nome = self.nome.get()\n",
    "     idade = self.idade.get()\n",
    "     cid = self.cid.get()\n",
    "     paciente = {\"Nome\":nome, \"Idade\":idade, \"Diagnóstico\":cid}\n",
    "     \n",
    "     self.pacientes.append(paciente)\n",
    "     return self.pacientes\n",
    "        \n",
    "        \n",
    "\n",
    "root = Tk()\n",
    "Application(root)\n",
    "root.mainloop()"
   ]
  }
 ],
 "metadata": {
  "kernelspec": {
   "display_name": "Python 3",
   "language": "python",
   "name": "python3"
  },
  "language_info": {
   "codemirror_mode": {
    "name": "ipython",
    "version": 3
   },
   "file_extension": ".py",
   "mimetype": "text/x-python",
   "name": "python",
   "nbconvert_exporter": "python",
   "pygments_lexer": "ipython3",
   "version": "3.11.6"
  }
 },
 "nbformat": 4,
 "nbformat_minor": 2
}
